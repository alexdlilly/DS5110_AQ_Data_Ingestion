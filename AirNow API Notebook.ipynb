{
 "cells": [
  {
   "cell_type": "code",
   "execution_count": 1,
   "id": "b4a0eb06-6c7a-4bd1-9abd-0fd6e7e6a6a1",
   "metadata": {
    "tags": []
   },
   "outputs": [],
   "source": [
    "import pandas as pd\n",
    "from datetime import datetime, timedelta\n",
    "import requests\n",
    "import json"
   ]
  },
  {
   "cell_type": "code",
   "execution_count": 2,
   "id": "fa8e4dc5-2f79-4a67-94b7-1b5ddcc0db86",
   "metadata": {
    "tags": []
   },
   "outputs": [
    {
     "name": "stdout",
     "output_type": "stream",
     "text": [
      "Between 12:15 and 12:15, there were 0 observations reported\n",
      "Between 12:15 and 12:45, there were 0 observations reported\n",
      "Between 12:15 and 13:15, there were 3251 observations reported\n",
      "Between 12:15 and 13:45, there were 3251 observations reported\n",
      "Between 12:15 and 14:15, there were 6507 observations reported\n",
      "Between 12:15 and 14:45, there were 6507 observations reported\n"
     ]
    }
   ],
   "source": [
    "# By latitude and longitude\n",
    "# API parameters\n",
    "options = {}\n",
    "options[\"url\"] = \"https://airnowapi.org/aq/data/\"\n",
    "options[\"parameters\"] = \"o3,pm25,pm10,co,no2,so2\"\n",
    "options[\"bbox\"] = \"-124.848974, 24.396308, -66.885444, 49.384358\"\n",
    "options[\"data_type\"] = \"b\"\n",
    "options[\"format\"] = \"application/json\"\n",
    "options[\"ext\"] = \"json\"\n",
    "options[\"api_key\"] = \"EB883725-96B2-407E-AAD0-7D4FFEF22290\"\n",
    "options['includerawconcentrations'] = \"1\"\n",
    "\n",
    "starttime = datetime(2024,2,17,hour=12,minute=15,second=0)\n",
    "\n",
    "start_str = str(starttime.hour) + ':' + str(starttime.minute)\n",
    "\n",
    "time_step = 30 # minutes\n",
    "start_time = \"12:00\"\n",
    "\n",
    "for i in range(6):\n",
    "    endtime = starttime + timedelta(minutes=time_step*i)\n",
    "    endtime_str = str(endtime.hour) + ':' + str(endtime.minute)\n",
    "    # API parameters\n",
    "    options[\"start_date\"] = \"2024-02-17\"\n",
    "    options[\"start_hour_utc\"] = start_str\n",
    "    options[\"end_date\"] = \"2024-02-17\"\n",
    "    options[\"end_hour_utc\"] = endtime_str\n",
    "\n",
    "\n",
    "    # API request URL\n",
    "    REQUEST_URL = options[\"url\"] \\\n",
    "                  + \"?startdate=\" + options[\"start_date\"] \\\n",
    "                  + \"t\" + options[\"start_hour_utc\"] \\\n",
    "                  + \"&enddate=\" + options[\"end_date\"] \\\n",
    "                  + \"t\" + options[\"end_hour_utc\"] \\\n",
    "                  + \"&parameters=\" + options[\"parameters\"] \\\n",
    "                  + \"&bbox=\" + options[\"bbox\"] \\\n",
    "                  + \"&datatype=\" + options[\"data_type\"] \\\n",
    "                  + \"&format=\" + options[\"format\"] \\\n",
    "                  + \"&api_key=\" + options[\"api_key\"] \\\n",
    "                  + \"&includerawconcentrations\" + options[\"includerawconcentrations\"]\n",
    "    \n",
    "    r = requests.get(REQUEST_URL)\n",
    "    data = json.loads(r.text)\n",
    "    df = pd.DataFrame(data)\n",
    "    print(f'Between {options[\"start_hour_utc\"]} and {options[\"end_hour_utc\"]}, there were {len(df)} observations reported')"
   ]
  },
  {
   "cell_type": "code",
   "execution_count": 3,
   "id": "3252172d-96a5-475b-b5a1-a080bef624d4",
   "metadata": {
    "tags": []
   },
   "outputs": [
    {
     "data": {
      "text/html": [
       "<div>\n",
       "<style scoped>\n",
       "    .dataframe tbody tr th:only-of-type {\n",
       "        vertical-align: middle;\n",
       "    }\n",
       "\n",
       "    .dataframe tbody tr th {\n",
       "        vertical-align: top;\n",
       "    }\n",
       "\n",
       "    .dataframe thead th {\n",
       "        text-align: right;\n",
       "    }\n",
       "</style>\n",
       "<table border=\"1\" class=\"dataframe\">\n",
       "  <thead>\n",
       "    <tr style=\"text-align: right;\">\n",
       "      <th></th>\n",
       "      <th>Latitude</th>\n",
       "      <th>Longitude</th>\n",
       "      <th>UTC</th>\n",
       "      <th>Parameter</th>\n",
       "      <th>Unit</th>\n",
       "      <th>Value</th>\n",
       "      <th>AQI</th>\n",
       "      <th>Category</th>\n",
       "    </tr>\n",
       "  </thead>\n",
       "  <tbody>\n",
       "    <tr>\n",
       "      <th>0</th>\n",
       "      <td>49.261014</td>\n",
       "      <td>-124.806628</td>\n",
       "      <td>2024-02-17T13:00</td>\n",
       "      <td>PM2.5</td>\n",
       "      <td>UG/M3</td>\n",
       "      <td>7.1</td>\n",
       "      <td>30</td>\n",
       "      <td>1</td>\n",
       "    </tr>\n",
       "    <tr>\n",
       "      <th>1</th>\n",
       "      <td>48.286700</td>\n",
       "      <td>-124.620300</td>\n",
       "      <td>2024-02-17T13:00</td>\n",
       "      <td>OZONE</td>\n",
       "      <td>PPB</td>\n",
       "      <td>37.0</td>\n",
       "      <td>34</td>\n",
       "      <td>1</td>\n",
       "    </tr>\n",
       "    <tr>\n",
       "      <th>2</th>\n",
       "      <td>48.286700</td>\n",
       "      <td>-124.620300</td>\n",
       "      <td>2024-02-17T13:00</td>\n",
       "      <td>PM2.5</td>\n",
       "      <td>UG/M3</td>\n",
       "      <td>1.6</td>\n",
       "      <td>7</td>\n",
       "      <td>1</td>\n",
       "    </tr>\n",
       "    <tr>\n",
       "      <th>3</th>\n",
       "      <td>48.286700</td>\n",
       "      <td>-124.620300</td>\n",
       "      <td>2024-02-17T13:00</td>\n",
       "      <td>SO2</td>\n",
       "      <td>PPB</td>\n",
       "      <td>0.2</td>\n",
       "      <td>0</td>\n",
       "      <td>1</td>\n",
       "    </tr>\n",
       "    <tr>\n",
       "      <th>4</th>\n",
       "      <td>48.286700</td>\n",
       "      <td>-124.620300</td>\n",
       "      <td>2024-02-17T13:00</td>\n",
       "      <td>CO</td>\n",
       "      <td>PPM</td>\n",
       "      <td>0.1</td>\n",
       "      <td>-999</td>\n",
       "      <td>-999</td>\n",
       "    </tr>\n",
       "  </tbody>\n",
       "</table>\n",
       "</div>"
      ],
      "text/plain": [
       "    Latitude   Longitude               UTC Parameter   Unit  Value  AQI  \\\n",
       "0  49.261014 -124.806628  2024-02-17T13:00     PM2.5  UG/M3    7.1   30   \n",
       "1  48.286700 -124.620300  2024-02-17T13:00     OZONE    PPB   37.0   34   \n",
       "2  48.286700 -124.620300  2024-02-17T13:00     PM2.5  UG/M3    1.6    7   \n",
       "3  48.286700 -124.620300  2024-02-17T13:00       SO2    PPB    0.2    0   \n",
       "4  48.286700 -124.620300  2024-02-17T13:00        CO    PPM    0.1 -999   \n",
       "\n",
       "   Category  \n",
       "0         1  \n",
       "1         1  \n",
       "2         1  \n",
       "3         1  \n",
       "4      -999  "
      ]
     },
     "execution_count": 3,
     "metadata": {},
     "output_type": "execute_result"
    }
   ],
   "source": [
    "df.head()"
   ]
  },
  {
   "cell_type": "code",
   "execution_count": 73,
   "id": "7c7d87dd-ad8c-4ad9-b572-07939c730982",
   "metadata": {
    "tags": []
   },
   "outputs": [],
   "source": [
    "import requests\n",
    "import json\n",
    "# Current AQ by lat/long\n",
    "options = {}\n",
    "options[\"url\"] = \"https://airnowapi.org/aq/observation/latLong/current\"\n",
    "options[\"latitude\"] = \"38.33\"\n",
    "options['longitude'] = \"-122.28\"\n",
    "options[\"format\"] = \"text/csv\"\n",
    "options[\"api_key\"] = \"EB883725-96B2-407E-AAD0-7D4FFEF22290\"\n",
    "options[\"distance\"] = \"150\"\n",
    "\n",
    "# API request URL\n",
    "REQUEST_URL = options[\"url\"] \\\n",
    "              + \"&latitude=\" + options['latitude'] \\\n",
    "              + \"&longitude=\" + options['longitude'] \\\n",
    "              + \"&format=\" + options[\"format\"] \\\n",
    "              + \"$distance\" + options['distance'] \\\n",
    "              + \"&api_key=\" + options[\"api_key\"]"
   ]
  },
  {
   "cell_type": "code",
   "execution_count": 74,
   "id": "3dc5694e-3ca7-4fa6-8489-f9dcd63145ee",
   "metadata": {
    "tags": []
   },
   "outputs": [],
   "source": [
    "r = requests.get(REQUEST_URL)"
   ]
  },
  {
   "cell_type": "code",
   "execution_count": 75,
   "id": "0ce69f1a-7aba-4cc5-b4cb-a87ef24798b1",
   "metadata": {
    "tags": []
   },
   "outputs": [
    {
     "data": {
      "text/plain": [
       "<Response [200]>"
      ]
     },
     "execution_count": 75,
     "metadata": {},
     "output_type": "execute_result"
    }
   ],
   "source": [
    "r"
   ]
  },
  {
   "cell_type": "code",
   "execution_count": 76,
   "id": "63b47f39-bf47-42c6-9dfd-5078fe9d8f28",
   "metadata": {
    "tags": []
   },
   "outputs": [
    {
     "data": {
      "text/plain": [
       "'    <!doctype html>\\r\\n<html xmlns=\"http://www.w3.org/1999/xhtml\" xml:lang=\"en\" lang=\"en\">\\r\\n    <head>\\r\\n    <meta http-equiv=\"Content-type\" content=\"text/html; charset=utf-8\"> \\r\\n    <title>AirNow API Documentation</title>\\r\\n    <link rel=\"stylesheet\" href=\"/css/lib/blueprint/screen.css\" type=\"text/css\" media=\"screen, projection\">\\r\\n    <link rel=\"stylesheet\" href=\"/css/lib/blueprint/print.css\" type=\"text/css\" media=\"print\">\\r\\n    <!--[if lt IE 8]><link rel=\"stylesheet\" href=\"/css/lib/blueprint/ie.css\" type=\"text/css\" media=\"screen, projection\"><![endif]-->\\r\\n    <link rel=\"stylesheet\" href=\"https://maxcdn.bootstrapcdn.com/font-awesome/4.6.1/css/font-awesome.min.css\" type=\"text/css\">\\r\\n    <link rel=\"stylesheet\" href=\"/css/default.css\" type=\"text/css\">\\r\\n    <script async src=\"https://www.googletagmanager.com/gtag/js?id=G-8FZ16JDJ5Y\"></script>\\r\\n    <script>\\r\\n        window.dataLayer = window.dataLayer || [];\\r\\n        function gtag(){dataLayer.push(arguments);}\\r\\n        gtag(\\'js\\', new Date());\\r\\n\\r\\n        gtag(\\'config\\', \\'G-8FZ16JDJ5Y\\');\\r\\n    </script> \\r\\n        </head>    <body>\\r\\n        <div id=\"header\">\\r\\n    <div class=\"left airNowLogo\">\\r\\n        <img src=\"/img/airNowLogo.png\" alt=\"AirNow\" />\\r\\n    </div>\\r\\n    <div class=\"right\" style=\"margin: 10px 40px;\">\\r\\n        <form class=\"left\">\\r\\n                            <a class=\"button\" href=\"/login\">Log In</a>\\r\\n                    </form>\\r\\n    </div>\\r\\n    <div class=\"clear\"></div>\\r\\n</div>\\r\\n\\r\\n<div id=\"navContainer\">\\r\\n    <ul id=\"navigation\">\\r\\n        <li class=\"first  selected \"><a href=\"/\" title=\"AirNow Developers - Home\">Home</a></li>\\r\\n        <li ><a href=\"/webservices\" title=\"\">Web Services</a></li>\\r\\n        <li ><a href=\"/feeds\" title=\"\">Data Feeds</a></li> \\r\\n        <li ><a href=\"/files\" title=\"\">File Products</a></li> \\r\\n        <li ><a href=\"/faq\" title=\"AirNow Developers - FAQ\">FAQ</a></li>\\r\\n        <li ><a href=\"/aq101\" title=\"\">Air Quality 101</a></li> \\r\\n        \\r\\n        <li ><a href=\"/usagestats\" title=\"\">Analytics</a></li>\\r\\n\\t\\t        \\r\\n    </ul>\\r\\n</div>\\r\\n\\r\\n<div id=\"pageTitleContainer\">\\r\\n            <h1>AirNow API </h1>\\r\\n    \\r\\n</div>\\r\\n\\r\\n<div id=\"leftColumn\" class=\"left span-5\">\\r\\n    <div>\\r\\n                                    </div>\\r\\n</div>        <div id=\"rightColumn\" class=\"left span-18\">\\r\\n                                                            <div class=\"span-24\">\\r\\n                     <div style=\"border-radius: 25px; border: 1px solid orange; padding: 20px;\">\\r\\n\\t\\t<p>\\r\\n\\t\\t<H3><strong>Update to minimum TLS requirements for <a href=\"https://files.airnowtech.org/\">https://files.airnowtech.org</a> connections</strong></H3>\\r\\n\\t\\t<br>\\r\\n\\t\\tBeginning December 31st, 2023, connections made to <a href=\"https://files.airnowtech.org/\">https://files.airnowtech.org</a> must use Transport Layer Security (TLS) 1.2 or higher. Prior to December 31st, users connecting with TLS 1.1 or lower may experience occasional connection deprecation. For the vast majority of users accessing the site via web browser or connecting via automated script, there  will be no impact. However, a small amount of users may need to update scripts if connecting to <a href=\"https://files.airnowtech.org/\">https://files.airnowtech.org</a> using TLS 1.1 or lower.\\r\\n\\t\\t</p>\\r\\n\\t\\t<p>\\r\\n\\t\\t\\tThank you,<br />\\r\\n\\t\\t\\tEPA and AirNow Data Management Center.\\r\\n\\t\\t</p>\\r\\n\\t</div>\\r\\n\\t<br /><br /> \\r\\n<div>\\r\\nThe AirNow API replaces the previous AirNow Gateway web services.  It includes file outputs and RSS data feeds.  AirNow Gateway users can use their existing login information to access the new AirNow API web pages and web services.  Access to the AirNow API is generally available to the public, and new accounts can be acquired via the <a href=\"/login\">Log In page</a>.  See the AirNow API <a href=\"/docs/AirNowAPIFactSheet.pdf\" target=\"_blank\">Fact Sheet</a> for more information. \\r\\n<br /><br />\\r\\nThe U.S. EPA AirNow program (<a href=\"https://www.airnow.gov\" target=\"_blank\">www.AirNow.gov</a>) protects public health by providing forecast and real-time observed air quality information across the United States, Canada, and Mexico.  AirNow receives real-time air quality observations from over 2,000 monitoring stations and collects forecasts for more than 300 cities.  \\r\\n<br /><br />\\r\\nAll data provided by AirNow API and AirNow Gateway are made possible by the efforts of more than 120 local, state, tribal, provincial, and federal government agencies (<a href=\"https://www.airnow.gov/partners/\" target=\"_blank\">Participating Agencies</a>).  These data are not fully verified or validated and should be considered preliminary and subject to change.  Data and information reported to AirNow are for the express purpose of reporting and forecasting the AQI.  As such, they should not be used to formulate or support regulation, trends, guidance, or any other government or public decision making.  Official regulatory air quality data must be obtained from EPA\\'s Air Quality System (AQS or AirData).\\r\\n<br /><br />\\r\\n<br /><br />\\r\\n</div>            </div>\\r\\n        </div>\\r\\n        <div id=\"footer\">\\r\\n    <a href=\"mailto:dmc@airnowtech.org\">Contact Us</a>\\r\\n</div>    </body>\\r\\n</html>'"
      ]
     },
     "execution_count": 76,
     "metadata": {},
     "output_type": "execute_result"
    }
   ],
   "source": [
    "r.text"
   ]
  },
  {
   "cell_type": "code",
   "execution_count": 15,
   "id": "9e650353-dd9a-4ecd-a307-91c681b97541",
   "metadata": {
    "tags": []
   },
   "outputs": [
    {
     "ename": "JSONDecodeError",
     "evalue": "Expecting value: line 1 column 5 (char 4)",
     "output_type": "error",
     "traceback": [
      "\u001b[1;31m---------------------------------------------------------------------------\u001b[0m",
      "\u001b[1;31mJSONDecodeError\u001b[0m                           Traceback (most recent call last)",
      "Cell \u001b[1;32mIn[15], line 1\u001b[0m\n\u001b[1;32m----> 1\u001b[0m \u001b[43mjson\u001b[49m\u001b[38;5;241;43m.\u001b[39;49m\u001b[43mloads\u001b[49m\u001b[43m(\u001b[49m\u001b[43mr\u001b[49m\u001b[38;5;241;43m.\u001b[39;49m\u001b[43mtext\u001b[49m\u001b[43m)\u001b[49m\n",
      "File \u001b[1;32m~\\anaconda3\\envs\\new\\lib\\json\\__init__.py:346\u001b[0m, in \u001b[0;36mloads\u001b[1;34m(s, cls, object_hook, parse_float, parse_int, parse_constant, object_pairs_hook, **kw)\u001b[0m\n\u001b[0;32m    341\u001b[0m     s \u001b[38;5;241m=\u001b[39m s\u001b[38;5;241m.\u001b[39mdecode(detect_encoding(s), \u001b[38;5;124m'\u001b[39m\u001b[38;5;124msurrogatepass\u001b[39m\u001b[38;5;124m'\u001b[39m)\n\u001b[0;32m    343\u001b[0m \u001b[38;5;28;01mif\u001b[39;00m (\u001b[38;5;28mcls\u001b[39m \u001b[38;5;129;01mis\u001b[39;00m \u001b[38;5;28;01mNone\u001b[39;00m \u001b[38;5;129;01mand\u001b[39;00m object_hook \u001b[38;5;129;01mis\u001b[39;00m \u001b[38;5;28;01mNone\u001b[39;00m \u001b[38;5;129;01mand\u001b[39;00m\n\u001b[0;32m    344\u001b[0m         parse_int \u001b[38;5;129;01mis\u001b[39;00m \u001b[38;5;28;01mNone\u001b[39;00m \u001b[38;5;129;01mand\u001b[39;00m parse_float \u001b[38;5;129;01mis\u001b[39;00m \u001b[38;5;28;01mNone\u001b[39;00m \u001b[38;5;129;01mand\u001b[39;00m\n\u001b[0;32m    345\u001b[0m         parse_constant \u001b[38;5;129;01mis\u001b[39;00m \u001b[38;5;28;01mNone\u001b[39;00m \u001b[38;5;129;01mand\u001b[39;00m object_pairs_hook \u001b[38;5;129;01mis\u001b[39;00m \u001b[38;5;28;01mNone\u001b[39;00m \u001b[38;5;129;01mand\u001b[39;00m \u001b[38;5;129;01mnot\u001b[39;00m kw):\n\u001b[1;32m--> 346\u001b[0m     \u001b[38;5;28;01mreturn\u001b[39;00m \u001b[43m_default_decoder\u001b[49m\u001b[38;5;241;43m.\u001b[39;49m\u001b[43mdecode\u001b[49m\u001b[43m(\u001b[49m\u001b[43ms\u001b[49m\u001b[43m)\u001b[49m\n\u001b[0;32m    347\u001b[0m \u001b[38;5;28;01mif\u001b[39;00m \u001b[38;5;28mcls\u001b[39m \u001b[38;5;129;01mis\u001b[39;00m \u001b[38;5;28;01mNone\u001b[39;00m:\n\u001b[0;32m    348\u001b[0m     \u001b[38;5;28mcls\u001b[39m \u001b[38;5;241m=\u001b[39m JSONDecoder\n",
      "File \u001b[1;32m~\\anaconda3\\envs\\new\\lib\\json\\decoder.py:337\u001b[0m, in \u001b[0;36mJSONDecoder.decode\u001b[1;34m(self, s, _w)\u001b[0m\n\u001b[0;32m    332\u001b[0m \u001b[38;5;28;01mdef\u001b[39;00m \u001b[38;5;21mdecode\u001b[39m(\u001b[38;5;28mself\u001b[39m, s, _w\u001b[38;5;241m=\u001b[39mWHITESPACE\u001b[38;5;241m.\u001b[39mmatch):\n\u001b[0;32m    333\u001b[0m \u001b[38;5;250m    \u001b[39m\u001b[38;5;124;03m\"\"\"Return the Python representation of ``s`` (a ``str`` instance\u001b[39;00m\n\u001b[0;32m    334\u001b[0m \u001b[38;5;124;03m    containing a JSON document).\u001b[39;00m\n\u001b[0;32m    335\u001b[0m \n\u001b[0;32m    336\u001b[0m \u001b[38;5;124;03m    \"\"\"\u001b[39;00m\n\u001b[1;32m--> 337\u001b[0m     obj, end \u001b[38;5;241m=\u001b[39m \u001b[38;5;28;43mself\u001b[39;49m\u001b[38;5;241;43m.\u001b[39;49m\u001b[43mraw_decode\u001b[49m\u001b[43m(\u001b[49m\u001b[43ms\u001b[49m\u001b[43m,\u001b[49m\u001b[43m \u001b[49m\u001b[43midx\u001b[49m\u001b[38;5;241;43m=\u001b[39;49m\u001b[43m_w\u001b[49m\u001b[43m(\u001b[49m\u001b[43ms\u001b[49m\u001b[43m,\u001b[49m\u001b[43m \u001b[49m\u001b[38;5;241;43m0\u001b[39;49m\u001b[43m)\u001b[49m\u001b[38;5;241;43m.\u001b[39;49m\u001b[43mend\u001b[49m\u001b[43m(\u001b[49m\u001b[43m)\u001b[49m\u001b[43m)\u001b[49m\n\u001b[0;32m    338\u001b[0m     end \u001b[38;5;241m=\u001b[39m _w(s, end)\u001b[38;5;241m.\u001b[39mend()\n\u001b[0;32m    339\u001b[0m     \u001b[38;5;28;01mif\u001b[39;00m end \u001b[38;5;241m!=\u001b[39m \u001b[38;5;28mlen\u001b[39m(s):\n",
      "File \u001b[1;32m~\\anaconda3\\envs\\new\\lib\\json\\decoder.py:355\u001b[0m, in \u001b[0;36mJSONDecoder.raw_decode\u001b[1;34m(self, s, idx)\u001b[0m\n\u001b[0;32m    353\u001b[0m     obj, end \u001b[38;5;241m=\u001b[39m \u001b[38;5;28mself\u001b[39m\u001b[38;5;241m.\u001b[39mscan_once(s, idx)\n\u001b[0;32m    354\u001b[0m \u001b[38;5;28;01mexcept\u001b[39;00m \u001b[38;5;167;01mStopIteration\u001b[39;00m \u001b[38;5;28;01mas\u001b[39;00m err:\n\u001b[1;32m--> 355\u001b[0m     \u001b[38;5;28;01mraise\u001b[39;00m JSONDecodeError(\u001b[38;5;124m\"\u001b[39m\u001b[38;5;124mExpecting value\u001b[39m\u001b[38;5;124m\"\u001b[39m, s, err\u001b[38;5;241m.\u001b[39mvalue) \u001b[38;5;28;01mfrom\u001b[39;00m \u001b[38;5;28;01mNone\u001b[39;00m\n\u001b[0;32m    356\u001b[0m \u001b[38;5;28;01mreturn\u001b[39;00m obj, end\n",
      "\u001b[1;31mJSONDecodeError\u001b[0m: Expecting value: line 1 column 5 (char 4)"
     ]
    }
   ],
   "source": [
    "json.loads(r.text)"
   ]
  },
  {
   "cell_type": "code",
   "execution_count": 9,
   "id": "f3af6b1e-5c88-49e3-aee3-75b62f9c0f9f",
   "metadata": {
    "tags": []
   },
   "outputs": [],
   "source": [
    "import requests\n",
    "import json\n",
    "# Forecasted AQ by zipcode\n",
    "options = {}\n",
    "options[\"url\"] = \"https://airnowapi.org/aq/forecast/zipCode/\"\n",
    "options[\"zipCode\"] = '94954'\n",
    "options['date'] = '2012-02-01'\n",
    "options[\"format\"] = \"application/json\"\n",
    "options[\"api_key\"] = \"4d36e978-e325-11cec1-08002be10318\"\n",
    "options[\"distance\"] = \"200\"\n",
    "\n",
    "# API request URL\n",
    "REQUEST_URL = options[\"url\"] \\\n",
    "              + \"&zipCode=\" + options['zipCode'] \\\n",
    "            + \"&date=\" + options['date'] \\\n",
    "              + \"&format=\" + options[\"format\"] \\\n",
    "              + \"&api_key=\" + options[\"api_key\"]"
   ]
  },
  {
   "cell_type": "code",
   "execution_count": 10,
   "id": "143182d6-9b76-413c-be50-d4eb3fb4a0de",
   "metadata": {
    "tags": []
   },
   "outputs": [
    {
     "data": {
      "text/plain": [
       "<Response [401]>"
      ]
     },
     "execution_count": 10,
     "metadata": {},
     "output_type": "execute_result"
    }
   ],
   "source": [
    "r = requests.get(REQUEST_URL)\n",
    "r"
   ]
  },
  {
   "cell_type": "code",
   "execution_count": 11,
   "id": "db1f3479-fa30-4f25-83a8-b11002e4dba3",
   "metadata": {
    "tags": []
   },
   "outputs": [
    {
     "data": {
      "text/plain": [
       "'<WebServiceError><Message>Request not authenticated.</Message></WebServiceError>'"
      ]
     },
     "execution_count": 11,
     "metadata": {},
     "output_type": "execute_result"
    }
   ],
   "source": [
    "r.text"
   ]
  },
  {
   "cell_type": "code",
   "execution_count": null,
   "id": "765230c6-2fe3-4ad4-a351-b309bf59b8f5",
   "metadata": {},
   "outputs": [],
   "source": []
  }
 ],
 "metadata": {
  "kernelspec": {
   "display_name": "Python 3 (ipykernel)",
   "language": "python",
   "name": "python3"
  },
  "language_info": {
   "codemirror_mode": {
    "name": "ipython",
    "version": 3
   },
   "file_extension": ".py",
   "mimetype": "text/x-python",
   "name": "python",
   "nbconvert_exporter": "python",
   "pygments_lexer": "ipython3",
   "version": "3.9.18"
  }
 },
 "nbformat": 4,
 "nbformat_minor": 5
}
